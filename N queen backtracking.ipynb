{
 "cells": [
  {
   "cell_type": "code",
   "execution_count": null,
   "id": "6a86b643",
   "metadata": {},
   "outputs": [],
   "source": [
    "N= int(input(\"Enter value of N: \"))\n",
    "\n",
    "def printsoln(board):\n",
    "    for i in range(N):\n",
    "        for j in range(N):\n",
    "            print(\"|\",board[i][j],end=\" \")\n",
    "        print(\"|\")    \n",
    "\n",
    "def issafe(board,row,col):\n",
    "    for i in range(col):\n",
    "        if board[row][i]==\"Q\":\n",
    "            return False\n",
    "        \n",
    "    for i, j in zip(range(row,-1,-1),range(col,-1,-1)):\n",
    "        if board[i][j]==\"Q\":\n",
    "            return False\n",
    "        \n",
    "    for i,j in zip(range(row,N,1,range(col,-1,-1))):\n",
    "        if board[i][j]==\"Q\":\n",
    "            return False\n",
    "        \n",
    "    return True\n",
    "\n",
    "\n",
    "def solveNQUtil(board,col):\n",
    "    if col>=N:\n",
    "        return True\n",
    "    \n",
    "    for i in range(N):\n",
    "        if issafe(board,i,col):\n",
    "            board[i][col]=\"Q\"\n",
    "            \n",
    "            if solveNQUtil(board,col+1)==True:\n",
    "                return True\n",
    "            \n",
    "            board[i][col]= \" \"\n",
    "            \n",
    "    return False    \n",
    "\n",
    "\n",
    "def solveNQ():\n",
    "    board = [[' ']*N for _ in range(N)]\n",
    "    \n",
    "    if solNQUtil(board,0)==False:\n",
    "        print(\"No soln exists\")\n",
    "        return False\n",
    "    \n",
    "    printsoln(board)\n",
    "    return True\n",
    "\n",
    "solveNQ()"
   ]
  },
  {
   "cell_type": "code",
   "execution_count": null,
   "id": "b423633f",
   "metadata": {},
   "outputs": [],
   "source": []
  }
 ],
 "metadata": {
  "kernelspec": {
   "display_name": "Python 3 (ipykernel)",
   "language": "python",
   "name": "python3"
  },
  "language_info": {
   "codemirror_mode": {
    "name": "ipython",
    "version": 3
   },
   "file_extension": ".py",
   "mimetype": "text/x-python",
   "name": "python",
   "nbconvert_exporter": "python",
   "pygments_lexer": "ipython3",
   "version": "3.10.9"
  }
 },
 "nbformat": 4,
 "nbformat_minor": 5
}
